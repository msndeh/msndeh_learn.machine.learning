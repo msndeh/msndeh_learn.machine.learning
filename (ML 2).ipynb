{
 "cells": [
  {
   "cell_type": "markdown",
   "id": "bbd453f9",
   "metadata": {},
   "source": [
    "# Important: \n",
    "to find \n",
    "# which method \n",
    "is appropriate for machine learning first \n",
    "# plot the data"
   ]
  },
  {
   "cell_type": "code",
   "execution_count": null,
   "id": "4ae1ea24",
   "metadata": {},
   "outputs": [],
   "source": [
    "**************************************************************\n",
    "import sklearn as aa\n",
    "help (aa) # here find linear_model"
   ]
  },
  {
   "cell_type": "code",
   "execution_count": null,
   "id": "6b5ed5f2",
   "metadata": {},
   "outputs": [],
   "source": [
    "import sklearn.linear_model as aa\n",
    "dir (aa) # here just change help to \n",
    "**************************************************************"
   ]
  },
  {
   "cell_type": "code",
   "execution_count": null,
   "id": "cab8fb63",
   "metadata": {},
   "outputs": [],
   "source": [
    "from sklearn.linear_model import LinearRegression\n",
    "model = LinearRegression().fit(mm[0],mm[2])"
   ]
  },
  {
   "cell_type": "code",
   "execution_count": null,
   "id": "8d9376fc",
   "metadata": {},
   "outputs": [],
   "source": [
    "from sklearn.linear_model import LogisticRegression # a binary outcome, such as yes or no\n",
    "model = LogisticRegression().fit(mm[0],mm[2])"
   ]
  },
  {
   "cell_type": "code",
   "execution_count": null,
   "id": "b46e2dd0",
   "metadata": {},
   "outputs": [],
   "source": [
    "from sklearn.tree import DecisionTreeClassifier # multiple outcome, such as digits\n",
    "model = DecisionTreeClassifier().fit(mm[0],mm[2])"
   ]
  },
  {
   "cell_type": "code",
   "execution_count": null,
   "id": "7ac5d391",
   "metadata": {},
   "outputs": [],
   "source": [
    "from sklearn.svm import SVC\n",
    "model = SVC().fit(mm[0],mm[2])\n",
    "\n",
    "g=df.groupby(\"flower_name\")\n",
    "g.get_group('virginica')\n",
    "\n",
    "Note: model = SVC() after training you can change parameters for:\n",
    "model=SVC(C=1.0, cache_size=200, class_weight=None, coef0=0.0,\n",
    "  decision_function_shape=None, degree=3, gamma='auto', kernel='rbf',\n",
    "  max_iter=-1, probability=False, random_state=None, shrinking=True,\n",
    "  tol=0.001, verbose=False)"
   ]
  },
  {
   "cell_type": "code",
   "execution_count": null,
   "id": "90f7a97e",
   "metadata": {},
   "outputs": [],
   "source": [
    "from sklearn.ensemble import RandomForestClassifier\n",
    "model = RandomForestClassifier(n_estimators=20).fit(mm[0],mm[2])"
   ]
  },
  {
   "cell_type": "code",
   "execution_count": null,
   "id": "b3a8bcb2",
   "metadata": {},
   "outputs": [],
   "source": [
    "Confusion Matrix\n",
    "from sklearn.metrics import confusion_matrix\n",
    "cm = confusion_matrix(y_test, y_predicted)\n",
    "cm\n",
    "%matplotlib inline\n",
    "import matplotlib.pyplot as plt\n",
    "import seaborn as sn\n",
    "\n",
    "sn.heatmap(cm, annot=True)"
   ]
  }
 ],
 "metadata": {
  "kernelspec": {
   "display_name": "Python 3 (ipykernel)",
   "language": "python",
   "name": "python3"
  },
  "language_info": {
   "codemirror_mode": {
    "name": "ipython",
    "version": 3
   },
   "file_extension": ".py",
   "mimetype": "text/x-python",
   "name": "python",
   "nbconvert_exporter": "python",
   "pygments_lexer": "ipython3",
   "version": "3.9.13"
  }
 },
 "nbformat": 4,
 "nbformat_minor": 5
}
