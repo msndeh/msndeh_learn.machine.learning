{
 "cells": [
  {
   "cell_type": "code",
   "execution_count": null,
   "metadata": {
    "scrolled": true
   },
   "outputs": [],
   "source": [
    "import pandas as pd\n",
    "from sklearn import datasets\n",
    "x=datasets.load_iris().data\n",
    "y=datasets.load_iris().target\n",
    "\n",
    "df=pd.DataFrame(x)\n",
    "df[4]=y\n",
    "xx=df.drop(4,axis=1)\n",
    "yy=df[4]\n",
    "df"
   ]
  },
  {
   "cell_type": "code",
   "execution_count": null,
   "metadata": {},
   "outputs": [],
   "source": [
    "import seaborn as sb\n",
    "sb.pairplot(df, hue=4)"
   ]
  },
  {
   "cell_type": "code",
   "execution_count": null,
   "metadata": {},
   "outputs": [],
   "source": [
    "# split train and test data\n",
    "\n",
    "from sklearn.model_selection import train_test_split\n",
    "xtr,xte,ytr,yte=train_test_split(xx,yy,test_size=0.2)"
   ]
  },
  {
   "cell_type": "code",
   "execution_count": null,
   "metadata": {},
   "outputs": [],
   "source": [
    "from sklearn import svm\n",
    "clf0 = svm.SVC(gamma='scale')\n",
    "\n",
    "from sklearn.linear_model import LogisticRegression\n",
    "clf1 = LogisticRegression(solver='liblinear', random_state=1)"
   ]
  },
  {
   "cell_type": "code",
   "execution_count": null,
   "metadata": {},
   "outputs": [],
   "source": [
    "estimator={}\n",
    "params = {}\n",
    "\n",
    "estimator[0]=clf0\n",
    "params[0]= {\n",
    "    'C': [0.1, 1, 10],\n",
    "    'kernel': ['rbf','linear'],\n",
    "    'cache_size': [210,300,400]    \n",
    "}\n",
    "\n",
    "estimator[1]=clf1\n",
    "params[1]= {\n",
    "    'C': [0.1, 1, 10],\n",
    "    'penalty': ['l1', 'l2']    \n",
    "}"
   ]
  },
  {
   "cell_type": "code",
   "execution_count": null,
   "metadata": {},
   "outputs": [],
   "source": [
    "import numpy as np\n",
    "from sklearn.model_selection import GridSearchCV\n",
    "for i in [0,1]:\n",
    "    grid = GridSearchCV(estimator[i], params[i], cv=30, scoring='accuracy')\n",
    "    grid.fit(xtr, ytr)\n",
    "    print(grid.best_estimator_, grid.best_score_)"
   ]
  },
  {
   "cell_type": "code",
   "execution_count": null,
   "metadata": {},
   "outputs": [],
   "source": [
    "model=svm.SVC(C=1, cache_size=210, kernel='linear').fit(xtr,ytr)"
   ]
  },
  {
   "cell_type": "code",
   "execution_count": null,
   "metadata": {},
   "outputs": [],
   "source": [
    "model.predict([[5.1, 3.5, 1.4, 0.2]])"
   ]
  },
  {
   "cell_type": "code",
   "execution_count": null,
   "metadata": {},
   "outputs": [],
   "source": [
    "y_pred = model.predict(xte)"
   ]
  },
  {
   "cell_type": "code",
   "execution_count": null,
   "metadata": {},
   "outputs": [],
   "source": [
    "from sklearn import metrics\n",
    "accuracy = metrics.accuracy_score(yte, y_pred)\n",
    "accuracy"
   ]
  },
  {
   "cell_type": "code",
   "execution_count": null,
   "metadata": {},
   "outputs": [],
   "source": [
    "# Save model:\n",
    "import pickle\n",
    "with open(\"mymodel\",'wb') as f: # first open a file f\n",
    "    pickle.dump(model,f) # then ask pickle to dump reg into the file f"
   ]
  },
  {
   "cell_type": "code",
   "execution_count": null,
   "metadata": {},
   "outputs": [],
   "source": [
    "# Load model:\n",
    "import pickle\n",
    "with open(\"mymodel\",'rb') as f:\n",
    "    mp=pickle.load(f)"
   ]
  }
 ],
 "metadata": {
  "kernelspec": {
   "display_name": "Python 3 (ipykernel)",
   "language": "python",
   "name": "python3"
  },
  "language_info": {
   "codemirror_mode": {
    "name": "ipython",
    "version": 3
   },
   "file_extension": ".py",
   "mimetype": "text/x-python",
   "name": "python",
   "nbconvert_exporter": "python",
   "pygments_lexer": "ipython3",
   "version": "3.9.13"
  }
 },
 "nbformat": 4,
 "nbformat_minor": 4
}
