{
 "cells": [
  {
   "cell_type": "code",
   "execution_count": 1,
   "metadata": {},
   "outputs": [],
   "source": [
    "from sklearn import datasets\n",
    "iris = datasets.load_iris()\n",
    "x=iris.data\n",
    "y=iris.target"
   ]
  },
  {
   "cell_type": "code",
   "execution_count": 2,
   "metadata": {},
   "outputs": [],
   "source": [
    "from sklearn import svm\n",
    "clf0 = svm.SVC(gamma='scale')\n",
    "from sklearn.linear_model import LogisticRegression\n",
    "clf1 = LogisticRegression(solver='liblinear', random_state=1)"
   ]
  },
  {
   "cell_type": "code",
   "execution_count": 3,
   "metadata": {},
   "outputs": [],
   "source": [
    "estimator={}\n",
    "params = {}\n",
    "\n",
    "estimator[0]=clf0\n",
    "params[0]= {\n",
    "    'C': [0.1, 1, 10],\n",
    "    'kernel': ['rbf','linear'],\n",
    "    'cache_size': [210,300,400]    \n",
    "}\n",
    "\n",
    "estimator[1]=clf1\n",
    "params[1]= {\n",
    "    'C': [0.1, 1, 10],\n",
    "    'penalty': ['l1', 'l2']    \n",
    "}"
   ]
  },
  {
   "cell_type": "code",
   "execution_count": 4,
   "metadata": {},
   "outputs": [
    {
     "name": "stdout",
     "output_type": "stream",
     "text": [
      "SVC(C=1, cache_size=210, kernel='linear') 0.9866666666666667\n",
      "LogisticRegression(C=10, random_state=1, solver='liblinear') 0.9666666666666667\n"
     ]
    }
   ],
   "source": [
    "import numpy as np\n",
    "from sklearn.model_selection import GridSearchCV\n",
    "for i in [0,1]:\n",
    "    grid = GridSearchCV(estimator[i], params[i], cv=30, scoring='accuracy')\n",
    "    grid.fit(x, y)\n",
    "    print(grid.best_estimator_, grid.best_score_)"
   ]
  },
  {
   "cell_type": "code",
   "execution_count": 5,
   "metadata": {},
   "outputs": [],
   "source": [
    "model=svm.SVC(C=1, cache_size=210, kernel='linear').fit(x,y)"
   ]
  },
  {
   "cell_type": "code",
   "execution_count": 6,
   "metadata": {},
   "outputs": [
    {
     "data": {
      "text/plain": [
       "array([0])"
      ]
     },
     "execution_count": 6,
     "metadata": {},
     "output_type": "execute_result"
    }
   ],
   "source": [
    "model.predict([[5.1, 3.5, 1.4, 0.2]])"
   ]
  },
  {
   "cell_type": "code",
   "execution_count": null,
   "metadata": {},
   "outputs": [],
   "source": []
  }
 ],
 "metadata": {
  "kernelspec": {
   "display_name": "Python 3 (ipykernel)",
   "language": "python",
   "name": "python3"
  },
  "language_info": {
   "codemirror_mode": {
    "name": "ipython",
    "version": 3
   },
   "file_extension": ".py",
   "mimetype": "text/x-python",
   "name": "python",
   "nbconvert_exporter": "python",
   "pygments_lexer": "ipython3",
   "version": "3.9.13"
  }
 },
 "nbformat": 4,
 "nbformat_minor": 4
}
