{
 "cells": [
  {
   "cell_type": "code",
   "execution_count": null,
   "id": "74afb6c2",
   "metadata": {},
   "outputs": [],
   "source": [
    "import numpy as np"
   ]
  },
  {
   "cell_type": "code",
   "execution_count": null,
   "id": "d95a396d",
   "metadata": {},
   "outputs": [],
   "source": [
    "import pandas as pd\n",
    "df = pd.read_csv(\"03 DL.csv\")\n",
    "# df['target'] = pd.get_dummies(df['target'], drop_first=True)"
   ]
  },
  {
   "cell_type": "code",
   "execution_count": null,
   "id": "609edacc",
   "metadata": {},
   "outputs": [],
   "source": [
    "df['target']=df['target'].replace(['M','R'],[0,1])\n",
    "df"
   ]
  },
  {
   "cell_type": "code",
   "execution_count": null,
   "id": "b8161349",
   "metadata": {},
   "outputs": [],
   "source": [
    "import matplotlib.pyplot as plt\n",
    "%matplotlib inline\n",
    "import seaborn as sb\n",
    "# sb.pairplot(data=df[1:5]);\n",
    "# sb.pairplot(data=df, hue=\"price\");"
   ]
  },
  {
   "cell_type": "code",
   "execution_count": null,
   "id": "5baa8841",
   "metadata": {},
   "outputs": [],
   "source": [
    "df.columns"
   ]
  },
  {
   "cell_type": "code",
   "execution_count": null,
   "id": "b7ba9827",
   "metadata": {},
   "outputs": [],
   "source": [
    "from sklearn.preprocessing import MinMaxScaler\n",
    "nn=MinMaxScaler().fit_transform(df)\n",
    "dfn=pd.DataFrame(nn, columns=[ 'a', 'b', 'n', 'm', 'h', 'f', 'r', 'aa', 'ss', 'dd', 'ff', 'gg', 'hh',\n",
    "       'jj', 'kk', 'll', 'oo', 'pp', 'zz', 'xx', 'cc', 'vv', 'bb', 'nn', 'mmm',\n",
    "       'qq', 'ww', 'ee', 'rr', 'tt', 'yy', 'uu', 'ii', 'oo.1', 'z1', 'z2',\n",
    "       'z3', 'z4', 'z5', 'a1', 'a3', 'a2', 'a4', 'a5', 'q1', 'q2', 'q3', 'q4',\n",
    "       'q5', 'w1', 'w2', 'w3', 'w4', 'w5', 'r2', 'r3', 'r4', 'r5', 't2', 't3',\n",
    "       'target'])"
   ]
  },
  {
   "cell_type": "code",
   "execution_count": null,
   "id": "3991f9c6",
   "metadata": {},
   "outputs": [],
   "source": [
    "x=df.drop('target', axis=1)\n",
    "y=df['target']"
   ]
  },
  {
   "cell_type": "code",
   "execution_count": null,
   "id": "906e26c3",
   "metadata": {},
   "outputs": [],
   "source": [
    "from sklearn.model_selection import train_test_split\n",
    "xtr,xte,ytr,yte=train_test_split(x,y,test_size=0.2, random_state=1)"
   ]
  },
  {
   "cell_type": "code",
   "execution_count": null,
   "id": "18e751d8",
   "metadata": {
    "scrolled": true
   },
   "outputs": [],
   "source": [
    "import tensorflow as tf\n",
    "from tensorflow import keras\n",
    "\n",
    "model = keras.Sequential([\n",
    "    keras.layers.Dense(60, input_dim=60, activation='relu'),\n",
    "    keras.layers.Dropout(0.3), # when accuracy is 1 the model is overfitted so we have to drop 50% of neurons\n",
    "    keras.layers.Dense(30, activation='relu'),\n",
    "    keras.layers.Dropout(0.3),\n",
    "    keras.layers.Dense(15, activation='relu'),\n",
    "    keras.layers.Dropout(0.3),\n",
    "    keras.layers.Dense(1, activation='sigmoid')\n",
    "])\n",
    "\n",
    "model.compile(loss='binary_crossentropy', optimizer='adam', metrics=['accuracy'])\n",
    "\n",
    "train=model.fit(xtr, ytr, epochs=50, batch_size=8)"
   ]
  },
  {
   "cell_type": "code",
   "execution_count": null,
   "id": "4d2045dc",
   "metadata": {
    "scrolled": true
   },
   "outputs": [],
   "source": [
    "plt.plot(train.history['loss'])"
   ]
  },
  {
   "cell_type": "code",
   "execution_count": null,
   "id": "95b7c744",
   "metadata": {
    "scrolled": true
   },
   "outputs": [],
   "source": [
    "plt.plot(train.history['accuracy'])"
   ]
  },
  {
   "cell_type": "code",
   "execution_count": null,
   "id": "b37114e8",
   "metadata": {},
   "outputs": [],
   "source": [
    "# Evaluate the model on test set\n",
    "model.evaluate(xte,yte) # this accuracy is more important than acuracy obtained (above) by training data "
   ]
  }
 ],
 "metadata": {
  "kernelspec": {
   "display_name": "Python 3 (ipykernel)",
   "language": "python",
   "name": "python3"
  },
  "language_info": {
   "codemirror_mode": {
    "name": "ipython",
    "version": 3
   },
   "file_extension": ".py",
   "mimetype": "text/x-python",
   "name": "python",
   "nbconvert_exporter": "python",
   "pygments_lexer": "ipython3",
   "version": "3.9.13"
  }
 },
 "nbformat": 4,
 "nbformat_minor": 5
}
